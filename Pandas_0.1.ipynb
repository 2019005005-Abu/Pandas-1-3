{
 "cells": [
  {
   "cell_type": "code",
   "execution_count": null,
   "id": "708fd887",
   "metadata": {},
   "outputs": [
    {
     "name": "stdout",
     "output_type": "stream",
     "text": [
      "{'Student': ['Amit', 'John', 'Jacob', 'David', 'Steve'], 'Rank': [1, 4, 3, 5, 2], 'Marks': [95, 70, 80, 60, 90]}\n",
      "  Student  Rank  Marks\n",
      "A    Amit     1     95\n",
      "B    John     4     70\n",
      "C   Jacob     3     80\n",
      "D   David     5     60\n",
      "E   Steve     2     90\n",
      "Student    object\n",
      "Rank        int64\n",
      "Marks       int64\n",
      "dtype: object\n"
     ]
    }
   ],
   "source": [
    "import pandas as pd;\n",
    "data={\n",
    "    'Student':['Amit','John','Jacob','David','Steve'],\n",
    "    'Rank':[1,4,3,5,2],\n",
    "    'Marks':[95,70,80,60,90]\n",
    "}\n",
    "print(data);\n",
    "i=['A','B','C','D','E']\n",
    "df=pd.DataFrame(data=data,index=i);\n",
    "print(df);\n",
    "print(df.dtypes)\n"
   ]
  },
  {
   "cell_type": "code",
   "execution_count": 12,
   "id": "0877cd64",
   "metadata": {},
   "outputs": [
    {
     "name": "stdout",
     "output_type": "stream",
     "text": [
      "     Student  Rank  Marks\n",
      "RowA    Amit     1     95\n",
      "RowB    John     4     70\n",
      "RowC   Jacob     3     80\n",
      "RowD   David     5     60\n",
      "RowE   Steve     2     90\n"
     ]
    }
   ],
   "source": [
    "import pandas as pd;\n",
    "data={\n",
    "    'Student':['Amit','John','Jacob','David','Steve'],\n",
    "    'Rank':[1,4,3,5,2],\n",
    "    'Marks':[95,70,80,60,90]\n",
    "}\n",
    "index=['RowA','RowB','RowC','RowD','RowE']\n",
    "df=pd.DataFrame(data=data,index=index);\n",
    "print(df);"
   ]
  },
  {
   "cell_type": "code",
   "execution_count": 18,
   "id": "cccaae1b",
   "metadata": {},
   "outputs": [
    {
     "name": "stdout",
     "output_type": "stream",
     "text": [
      "(5, 3)\n",
      "15\n",
      "Transpose\n",
      "<bound method DataFrame.transpose of      Student  Rank  Marks\n",
      "RowA    Amit     1     95\n",
      "RowB    John     4     70\n",
      "RowC   Jacob     3     80\n",
      "RowD   David     5     60\n",
      "RowE   Steve     2     90>\n",
      "using the tail :<bound method NDFrame.tail of      Student  Rank  Marks\n",
      "RowA    Amit     1     95\n",
      "RowB    John     4     70\n",
      "RowC   Jacob     3     80\n",
      "RowD   David     5     60\n",
      "RowE   Steve     2     90>\n",
      "using the head :<bound method NDFrame.head of      Student  Rank  Marks\n",
      "RowA    Amit     1     95\n",
      "RowB    John     4     70\n",
      "RowC   Jacob     3     80\n",
      "RowD   David     5     60\n",
      "RowE   Steve     2     90>\n"
     ]
    }
   ],
   "source": [
    "shape=df.shape;\n",
    "print(shape);\n",
    "size=df.size;\n",
    "print(size);\n",
    "print('Transpose')\n",
    "print(df.transpose);\n",
    "print(f'using the tail :{df.tail}');\n",
    "print(f'using the head :{df.head}');"
   ]
  },
  {
   "cell_type": "code",
   "execution_count": 21,
   "id": "5962b78e",
   "metadata": {},
   "outputs": [
    {
     "name": "stdout",
     "output_type": "stream",
     "text": [
      "    Student  Rank  Marks Student  Rank  Marks\n",
      "0    Amitro    45    950    Amit     1     95\n",
      "1  Johnsina     1    750    John     4     70\n",
      "2  Jacobina     4    830   Jacob     3     80\n",
      "3    Davida     7    610   David     5     60\n",
      "4   SteveIs     8    940   Steve     2     90\n"
     ]
    }
   ],
   "source": [
    "import pandas as pd;\n",
    "data1={\n",
    "    'Student':['Amitro','Johnsina','Jacobina','Davida','SteveIs'],\n",
    "    'Rank':[45,1,4,7,8],\n",
    "    'Marks':[950,750,830,610,940]\n",
    "}\n",
    "\n",
    "data2={\n",
    "    'Student':['Amit','John','Jacob','David','Steve'],\n",
    "    'Rank':[1,4,3,5,2],\n",
    "    'Marks':[95,70,80,60,90]\n",
    "}\n",
    "def AddingTwoDataSet(D1,D2):\n",
    "    df1=pd.DataFrame(D1);\n",
    "    df2=pd.DataFrame(D2);\n",
    "    join_df=pd.concat([df1,df2],axis=1);\n",
    "    return join_df;\n",
    "dj=AddingTwoDataSet(data1,data2);\n",
    "print(dj);"
   ]
  }
 ],
 "metadata": {
  "kernelspec": {
   "display_name": "Python 3",
   "language": "python",
   "name": "python3"
  },
  "language_info": {
   "codemirror_mode": {
    "name": "ipython",
    "version": 3
   },
   "file_extension": ".py",
   "mimetype": "text/x-python",
   "name": "python",
   "nbconvert_exporter": "python",
   "pygments_lexer": "ipython3",
   "version": "3.12.3"
  }
 },
 "nbformat": 4,
 "nbformat_minor": 5
}
